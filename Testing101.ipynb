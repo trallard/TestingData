{
 "cells": [
  {
   "cell_type": "markdown",
   "metadata": {},
   "source": [
    "# ⭐ Getting to grips with testing \n",
    "\n",
    "There are different levels of testing\n",
    "- Assertions: 🦄 == 🦄\n",
    "- Exceptions: (within the code) serve as warnings ⚠️\n",
    "- Unit tests: investigate the behaviour of units of code (e.g functions)\n",
    "- Regression tests: defends against 🐛\n",
    "- Integration tests: ⚙️ checks that the pieces work together as expected\n",
    "\n",
    "\n",
    "## Assertions\n",
    "Evaluate an expression which it hopes to be true and if this is false it will raise an exception of  the type `AssertionError`"
   ]
  },
  {
   "cell_type": "code",
   "execution_count": null,
   "metadata": {},
   "outputs": [],
   "source": [
    "# Basic example: function to identify if a given number is a multiple of 5 "
   ]
  },
  {
   "cell_type": "code",
   "execution_count": null,
   "metadata": {},
   "outputs": [],
   "source": [
    "def isMultiple(number):\n",
    "    is_fact = False\n",
    "    \n",
    "    if number % 5 == 0:\n",
    "        is_fact = True\n",
    "    return is_fact\n",
    "\n",
    "print(isMultiple(15))"
   ]
  },
  {
   "cell_type": "markdown",
   "metadata": {},
   "source": [
    "It works so now it is your problem right?\n",
    "\n",
    "<img src=\"./assets/devproblem.jpeg\">\n",
    "\n",
    "Not quite!"
   ]
  },
  {
   "cell_type": "code",
   "execution_count": null,
   "metadata": {},
   "outputs": [],
   "source": [
    "print(isMultiple(0))"
   ]
  },
  {
   "cell_type": "code",
   "execution_count": null,
   "metadata": {},
   "outputs": [],
   "source": [
    "import pytest\n",
    "\n",
    "def test_isMultiple():\n",
    "    assert isMultiple(5) == True\n",
    "    assert isMultiple(50) == True\n",
    "    assert isMultiple(0) == False\n",
    "    assert isMultiple(-10) == False\n",
    "    \n",
    "test_isMultiple()"
   ]
  },
  {
   "cell_type": "code",
   "execution_count": null,
   "metadata": {},
   "outputs": [],
   "source": [
    "def isMultiple(number):\n",
    "    is_fact = False\n",
    "    \n",
    "    if number > 0 and number % 5 == 0:\n",
    "        is_fact = True\n",
    "    return is_fact\n",
    "\n",
    "print(isMultiple(15))"
   ]
  },
  {
   "cell_type": "code",
   "execution_count": null,
   "metadata": {},
   "outputs": [],
   "source": [
    "test_isMultiple()"
   ]
  },
  {
   "cell_type": "markdown",
   "metadata": {},
   "source": [
    "## Exceptions\n",
    "Catch bugs before they are actually bugs. \n",
    "\n",
    "Imagine we want to load a data set..."
   ]
  },
  {
   "cell_type": "code",
   "execution_count": null,
   "metadata": {},
   "outputs": [],
   "source": [
    "import pandas as pd\n",
    "\n",
    "df =  pd.read_csv('winemag-data-130k-v2.csv')\n"
   ]
  },
  {
   "cell_type": "code",
   "execution_count": null,
   "metadata": {},
   "outputs": [],
   "source": [
    "try: \n",
    "    df = pd.read_csv('winemag-data-130k-v2.csv')\n",
    "except:\n",
    "    df = pd.read_csv('https://raw.githubusercontent.com/trallard/TestingData/master/data/winemag-data-130k-v2.csv',\n",
    "                    index_col = 0)"
   ]
  },
  {
   "cell_type": "code",
   "execution_count": null,
   "metadata": {},
   "outputs": [],
   "source": [
    "df.head()"
   ]
  },
  {
   "cell_type": "markdown",
   "metadata": {},
   "source": [
    "# ⭐ Data validation \n",
    "\n",
    "# Schema validation\n",
    "There are a number of Python libraries to achieve this: [Schema](https://github.com/keleshev/schema), [Voluptuous](https://github.com/alecthomas/voluptuous) and [Cerberus](http://docs.python-cerberus.org/en/stable/) are some of the most commonly used. \n",
    "\n",
    "We will use Voluptuous, start by doing a `pip install voluptuous`\n",
    "\n",
    "What does schema validation mean?\n",
    "It refers to checking all the fields are there and all the types are right or understandable (parseable)\n",
    "\n",
    "**Let's start by checking the data types of our columns**"
   ]
  },
  {
   "cell_type": "code",
   "execution_count": null,
   "metadata": {},
   "outputs": [],
   "source": [
    "df.dtypes"
   ]
  },
  {
   "cell_type": "markdown",
   "metadata": {},
   "source": [
    "We can now define a toy example of a given schema"
   ]
  },
  {
   "cell_type": "code",
   "execution_count": null,
   "metadata": {},
   "outputs": [],
   "source": [
    "from voluptuous import Schema\n",
    "\n",
    "s = Schema({\n",
    "    'q': str,\n",
    "    'per_page': int,\n",
    "    'page': int,\n",
    "})\n",
    "\n",
    "s({\"q\": \"hello\"})"
   ]
  },
  {
   "cell_type": "code",
   "execution_count": null,
   "metadata": {},
   "outputs": [],
   "source": [
    "s({\"q\": \"hello\", \"page\": \"world\"})"
   ]
  },
  {
   "cell_type": "markdown",
   "metadata": {},
   "source": [
    "Now let's generate a schema for our own data set"
   ]
  },
  {
   "cell_type": "code",
   "execution_count": null,
   "metadata": {},
   "outputs": [],
   "source": [
    " df_schema = Schema({\n",
    "     'country':str,\n",
    "     'description':str,\n",
    "     'designation':str,\n",
    "     'price':int,\n",
    "     'province':str,\n",
    "     'taster_name':str,\n",
    " }, extra=True)"
   ]
  },
  {
   "cell_type": "markdown",
   "metadata": {},
   "source": [
    "And we will use only one small sample of the data "
   ]
  },
  {
   "cell_type": "code",
   "execution_count": null,
   "metadata": {},
   "outputs": [],
   "source": [
    "df_sample = dict(df.loc[1])\n",
    "print(df_sample)"
   ]
  },
  {
   "cell_type": "code",
   "execution_count": null,
   "metadata": {},
   "outputs": [],
   "source": [
    "df_schema(df_sample)"
   ]
  },
  {
   "cell_type": "markdown",
   "metadata": {},
   "source": [
    "## Check for missing numbers and duplicates\n",
    "\n",
    "Let's start with the duplicates:"
   ]
  },
  {
   "cell_type": "code",
   "execution_count": null,
   "metadata": {},
   "outputs": [],
   "source": [
    "print(\"Total number of examples: \", df.shape[0])\n",
    "print(\"Number of examples with the same title and description: \", \n",
    "      df[df.duplicated(['description','title'])].shape[0])\n",
    "\n",
    "duplicated_rows = df[df.duplicated(['description'])].shape[0]\n",
    "print(\"Number of examples with the same description: \", duplicated_rows  )"
   ]
  },
  {
   "cell_type": "markdown",
   "metadata": {},
   "source": [
    "I am going to create a copy of the dataframe to do my manipulations... starting with dropping the duplicates."
   ]
  },
  {
   "cell_type": "code",
   "execution_count": null,
   "metadata": {},
   "outputs": [],
   "source": [
    "interim = df.copy()\n",
    "interim.drop_duplicates(subset = 'description', inplace = True)\n",
    "\n",
    "no_rows_interim = len(interim)\n",
    "print('Total unique reviews:', no_rows_interim)\n",
    "print('\\nVariety description \\n', interim['variety'].describe())"
   ]
  },
  {
   "cell_type": "markdown",
   "metadata": {},
   "source": [
    "### What if I want to do some checks on my data?\n",
    "\n",
    "Let's check if our dataframe has the number of rows it is expected to have"
   ]
  },
  {
   "cell_type": "code",
   "execution_count": null,
   "metadata": {},
   "outputs": [],
   "source": [
    "assert no_rows_interim == (len(df) - duplicated_rows)"
   ]
  },
  {
   "cell_type": "markdown",
   "metadata": {},
   "source": [
    "Now, let's have a look at our missing numbers:"
   ]
  },
  {
   "cell_type": "code",
   "execution_count": null,
   "metadata": {},
   "outputs": [],
   "source": [
    "total = df.isnull().sum().sort_values(ascending = False)\n",
    "percent = (df.isnull().sum()/df.isnull().count()*100).sort_values(ascending = False)\n",
    "missing_data  = pd.concat([total, percent], axis=1, keys=['Total', 'Percent'])\n",
    "missing_data"
   ]
  },
  {
   "cell_type": "markdown",
   "metadata": {},
   "source": [
    "The most missing values are in region, destination, tester name and price columns.\n",
    "\n",
    "I'm worried the most about wines with NaN in price columns. We don't want to predict points for wines which price are undeclared. We will drop rows with NaN value in this column."
   ]
  },
  {
   "cell_type": "code",
   "execution_count": null,
   "metadata": {},
   "outputs": [],
   "source": [
    "interim = interim.dropna(subset=['price'])\n",
    "interim = interim.reset_index(drop = True)\n",
    "\n",
    "interim.head()"
   ]
  },
  {
   "cell_type": "code",
   "execution_count": null,
   "metadata": {},
   "outputs": [],
   "source": [
    "interim.shape"
   ]
  },
  {
   "cell_type": "markdown",
   "metadata": {},
   "source": [
    "Doing more data transformations... we only want to keep the top 20 wines"
   ]
  },
  {
   "cell_type": "code",
   "execution_count": null,
   "metadata": {},
   "outputs": [],
   "source": [
    "varieties = interim['variety'].value_counts()\n",
    "varieties"
   ]
  },
  {
   "cell_type": "code",
   "execution_count": null,
   "metadata": {},
   "outputs": [],
   "source": [
    "top_wines_df = interim.loc[interim['variety'].isin(varieties.axes[0][:20])].to_json"
   ]
  },
  {
   "cell_type": "markdown",
   "metadata": {},
   "source": [
    "I have been very careful with all my data manipulation right?\n",
    "\n",
    "![](./assets/data.jpeg)\n"
   ]
  },
  {
   "cell_type": "code",
   "execution_count": null,
   "metadata": {},
   "outputs": [],
   "source": [
    "assert isinstance(interim, pd.DataFrame)\n",
    "assert isinstance(top_wines_df, pd.DataFrame)"
   ]
  },
  {
   "cell_type": "markdown",
   "metadata": {},
   "source": [
    "Assume you have a **text data frame** and you want to verify that your newly processed data conforms to it. Pandas has its own tesing module "
   ]
  },
  {
   "cell_type": "code",
   "execution_count": null,
   "metadata": {},
   "outputs": [],
   "source": [
    "fixture = pd.read_csv('./data/fixture.csv', index_col =None)"
   ]
  },
  {
   "cell_type": "code",
   "execution_count": null,
   "metadata": {},
   "outputs": [],
   "source": [
    "pd.testing.assert_frame_equal(top_wines_df, fixture)\n",
    "pd.testing.assert_index_equal(top_wines_df, fixture)"
   ]
  },
  {
   "cell_type": "code",
   "execution_count": null,
   "metadata": {},
   "outputs": [],
   "source": [
    "top_wines_df.reset_index(drop =True, inplace=True)"
   ]
  },
  {
   "cell_type": "code",
   "execution_count": null,
   "metadata": {},
   "outputs": [],
   "source": [
    "pd.testing.assert_index_equal(top_wines_df.index, fixture.index)"
   ]
  },
  {
   "cell_type": "markdown",
   "metadata": {},
   "source": [
    "# Some property bases testing with hypothesis "
   ]
  },
  {
   "cell_type": "code",
   "execution_count": null,
   "metadata": {},
   "outputs": [],
   "source": []
  },
  {
   "cell_type": "code",
   "execution_count": null,
   "metadata": {},
   "outputs": [],
   "source": []
  }
 ],
 "metadata": {
  "kernelspec": {
   "display_name": "Python 3",
   "language": "python",
   "name": "python3"
  },
  "language_info": {
   "codemirror_mode": {
    "name": "ipython",
    "version": 3
   },
   "file_extension": ".py",
   "mimetype": "text/x-python",
   "name": "python",
   "nbconvert_exporter": "python",
   "pygments_lexer": "ipython3",
   "version": "3.6.5"
  }
 },
 "nbformat": 4,
 "nbformat_minor": 2
}
